{
 "cells": [
  {
   "cell_type": "code",
   "execution_count": null,
   "metadata": {},
   "outputs": [],
   "source": [
    "import numpy as np\n",
    "import pandas as pd\n",
    "import matplotlib as mpl\n",
    "import matplotlib.pyplot as plt\n",
    "import time\n",
    "from PIL import Image\n",
    "\n",
    "from utils.coords import *\n",
    "from utils.noise import *\n",
    "from utils.metrics import *\n",
    "from analysis.peaksdata import *\n",
    "from synthesis.divtree_synthesis import *\n",
    "\n",
    "%matplotlib inline\n",
    "mpl.rcParams['image.cmap'] = 'terrain'"
   ]
  },
  {
   "cell_type": "code",
   "execution_count": null,
   "metadata": {},
   "outputs": [],
   "source": [
    "np.random.seed(42)"
   ]
  },
  {
   "cell_type": "markdown",
   "metadata": {},
   "source": [
    "# Constants"
   ]
  },
  {
   "cell_type": "code",
   "execution_count": null,
   "metadata": {},
   "outputs": [],
   "source": [
    "promEpsilon   = 30   # m,  minimum prominence threshold in the analysis\n",
    "diskRadius    = 30   # km, used for the analysis to normalize histograms \n",
    "globalMaxElev = 9000 # m,  any value larger than any other peak elevation, used internally as initialization and undefineds\n",
    "\n",
    "terrainUnitKm  = 90  # km, size of terrain\n",
    "km2pixels = 1000/30  # 30 m/pixel"
   ]
  },
  {
   "cell_type": "markdown",
   "metadata": {},
   "source": [
    "# Target terrain orometry"
   ]
  },
  {
   "cell_type": "code",
   "execution_count": null,
   "metadata": {},
   "outputs": [],
   "source": [
    "regionName, filterCoords = 'pyrenees', [42.5893, 0.9377] # pyrenees: aiguestortes\n",
    "#regionName, filterCoords = 'alps', [45.8325,  7.0]  # mont blanc\n",
    "#regionName, filterCoords = 'alps', [44.8742,  6.5]  # ecrins\n",
    "#regionName, filterCoords = 'alps', [46.4702, 11.9492] # dolomites\n",
    "#regionName, filterCoords = 'alps', [46.0159, 7.74318] # valais\n",
    "#regionName, filterCoords = 'sahara', [30.38, 8.69] # sahara dunes\n",
    "#regionName, filterCoords = 'andes_chile', [-21.4483, -68.0708] # chile\n",
    "#regionName, filterCoords = 'karakoram', [35.8283, 76.3608] # karakoram\n",
    "#regionName, filterCoords = 'colorado', [39.0782,-106.6986] # colorado\n",
    "#regionName, filterCoords = 'yangshuo', [24.9917, 110.4617] # yangshuo\n",
    "#regionName, filterCoords = 'himalaya', [28.7150, 84.2000] # himalaya: annapurna\n",
    "#regionName, filterCoords = 'himalaya', [27.8575, 86.8267] # himalaya: everest\n",
    "#regionName, filterCoords = 'norway', [62.1167, 6.8075] # norway\n",
    "#regionName, filterCoords = 'alaska', [62.9500, -151.0908] # alaska\n",
    "#regionName, filterCoords = 'patagonia', [-50.8925, -73.1533] # patagonia\n",
    "#regionName, filterCoords = 'andes_aconcagua', [-32.6533, -70.0108] # aconcagua\n",
    "#regionName, filterCoords = 'andes_peru', [-9.0874, -77.5737] # huascaran\n",
    "#regionName, filterCoords = 'rockies', [50.8003, -116.29517] # canadian rockies\n",
    "#regionName, filterCoords = 'appalachians', [35.3855, -83.2380] # appalachians\n",
    "#regionName, filterCoords = 'highlands', [56.9667, -3.5917] # highlands\n",
    "\n",
    "peaksFile = 'data/regionPeaks/%s.csv' % regionName\n",
    "\n",
    "filterRadius = 45 # km"
   ]
  },
  {
   "cell_type": "code",
   "execution_count": null,
   "metadata": {
    "scrolled": true
   },
   "outputs": [],
   "source": [
    "filterHWidth = [km2deg(filterRadius), km2deg(filterRadius, filterCoords[0])]\n",
    "print(filterCoords[0] - filterHWidth[0], filterCoords[0] + filterHWidth[0],\n",
    "      filterCoords[1] - filterHWidth[1], filterCoords[1] + filterHWidth[1])"
   ]
  },
  {
   "cell_type": "code",
   "execution_count": null,
   "metadata": {},
   "outputs": [],
   "source": [
    "# read peaks file and filter region of interest\n",
    "df = pd.read_csv(peaksFile)\n",
    "\n",
    "filterHWidth = [km2deg(filterRadius), km2deg(filterRadius, filterCoords[0])]\n",
    "filat = np.logical_and(df['latitude']  > filterCoords[0] - filterHWidth[0], \n",
    "                       df['latitude'] < filterCoords[0] + filterHWidth[0])\n",
    "filon = np.logical_and(df['longitude'] > filterCoords[1] - filterHWidth[1], \n",
    "                       df['longitude'] < filterCoords[1] + filterHWidth[1])\n",
    "df = df[np.logical_and(filat, filon)]\n",
    "\n",
    "print('Peaks:', df.shape[0])"
   ]
  },
  {
   "cell_type": "code",
   "execution_count": null,
   "metadata": {},
   "outputs": [],
   "source": [
    "# compute distributions\n",
    "df = addExtraColumns(df)\n",
    "distributions = computeDistributions(df, diskRadius)"
   ]
  },
  {
   "cell_type": "code",
   "execution_count": null,
   "metadata": {},
   "outputs": [],
   "source": []
  },
  {
   "cell_type": "code",
   "execution_count": null,
   "metadata": {},
   "outputs": [],
   "source": [
    "# Visualize the peaks\n",
    "fig = plt.figure(figsize=(5,5))\n",
    "_ = plt.scatter(df['longitude'], df['latitude'], marker='^', \n",
    "                s=20*df['elev'].values/df['elev'].values.max(), c=df['elev'].values/df['elev'].values.max())"
   ]
  },
  {
   "cell_type": "code",
   "execution_count": null,
   "metadata": {},
   "outputs": [],
   "source": [
    "# Visualize distributions\n",
    "barColor  = (216/255, 226/255, 238/255, 1.0)\n",
    "edgeColor = (137/255, 151/255, 168/255, 1.0)\n",
    "\n",
    "fig = plt.figure(figsize=(16, 9))\n",
    "\n",
    "ax = fig.add_subplot(231)\n",
    "h = ax.bar(distributions['elevation']['x'],\n",
    "           distributions['elevation']['hist'], \n",
    "           width=np.diff(distributions['elevation']['bins']), color=barColor, edgecolor=edgeColor)\n",
    "\n",
    "ax = fig.add_subplot(232)\n",
    "h = ax.bar(distributions['prominence']['x'],\n",
    "           distributions['prominence']['hist'], \n",
    "           width=np.diff(distributions['prominence']['bins']), color=barColor, edgecolor=edgeColor)\n",
    "\n",
    "ax = fig.add_subplot(233)\n",
    "h = ax.bar(distributions['dominance']['x'],\n",
    "           distributions['dominance']['hist'], \n",
    "           width=np.diff(distributions['dominance']['bins']), color=barColor, edgecolor=edgeColor)\n",
    "\n",
    "ax = fig.add_subplot(234)\n",
    "h = ax.bar(distributions['isolation']['x'],\n",
    "           distributions['isolation']['hist'], \n",
    "           width=np.diff(distributions['isolation']['bins']), color=barColor, edgecolor=edgeColor)\n",
    "\n",
    "ax = fig.add_subplot(235, polar=True)\n",
    "ax.set_yticklabels([])\n",
    "h = ax.bar(np.radians(distributions['isolDir']['x']),\n",
    "           distributions['isolDir']['hist'], \n",
    "           width=np.diff(np.radians(distributions['isolDir']['bins'])), color=barColor, edgecolor=edgeColor)\n",
    "\n",
    "ax = fig.add_subplot(236, polar=True)\n",
    "ax.set_yticklabels([])\n",
    "h = ax.bar(np.radians(distributions['saddleDir']['x']),\n",
    "           distributions['saddleDir']['hist'], \n",
    "           width=np.diff(np.radians(distributions['saddleDir']['bins'])), color=barColor, edgecolor=edgeColor)"
   ]
  },
  {
   "cell_type": "code",
   "execution_count": null,
   "metadata": {},
   "outputs": [],
   "source": []
  },
  {
   "cell_type": "markdown",
   "metadata": {},
   "source": [
    "# Control"
   ]
  },
  {
   "cell_type": "code",
   "execution_count": null,
   "metadata": {},
   "outputs": [],
   "source": [
    "# control images\n",
    "pathControlDEM = 'input/user_elevs.png'\n",
    "pathControlDensity = 'input/user_probs.png'\n",
    "\n",
    "imgControlDEM = np.asarray(Image.open(pathControlDEM)).astype(float)\n",
    "if len(imgControlDEM.shape) > 2:\n",
    "    imgControlDEM = imgControlDEM[:,:,0].squeeze()\n",
    "imgControlDEM = np.fliplr(imgControlDEM.T)\n",
    "imgControlDEM /= imgControlDEM.max()\n",
    "shapeImg = imgControlDEM.shape\n",
    "    \n",
    "imgControlDensity = np.asarray(Image.open(pathControlDensity)).astype(float)/255\n",
    "if len(imgControlDensity.shape) > 2:\n",
    "    imgControlDensity = imgControlDensity[:,:,0].squeeze()\n",
    "imgControlDensity = np.fliplr(imgControlDensity.T)\n",
    "imgControlDensity /= imgControlDensity.max()\n",
    "shapeImg = imgControlDensity.shape\n",
    "\n",
    "\n",
    "# account for non-square terrains\n",
    "terrainAspect = np.array([1.0, 1.0])\n",
    "if shapeImg[0] > shapeImg[1]:\n",
    "    terrainAspect[0] = shapeImg[0]/shapeImg[1]\n",
    "else:\n",
    "    terrainAspect[1] = shapeImg[1]/shapeImg[0]\n",
    "\n",
    "terrainSize = terrainAspect * terrainUnitKm"
   ]
  },
  {
   "cell_type": "code",
   "execution_count": null,
   "metadata": {},
   "outputs": [],
   "source": [
    "# predefined peaks and saddles\n",
    "fixPeakCoords   = np.array([[0.65,0.2], [0.625,0.22], [0.69,0.19], [0.9,0.92]])\n",
    "fixPeakElevs    = np.array([4500, 4200, 4050, 3000])\n",
    "fixSaddleCoords = np.array([[0.63, 0.21], [0.68, 0.195]])\n",
    "fixSaddlePeaks  = np.array([[0, 1], [0, 2]])\n",
    "\n",
    "# do we want these predefined peaks to have a particular prominence/dominance value or range?\n",
    "peakRangeProm = np.array([[4500,4500], [500,2000], [500,2000], [0,4000]])\n",
    "peakRangeDom  = peakRangeProm/fixPeakElevs[:,np.newaxis]"
   ]
  },
  {
   "cell_type": "code",
   "execution_count": null,
   "metadata": {},
   "outputs": [],
   "source": [
    "# create probability (density) maps\n",
    "probMap = (imgControlDensity - imgControlDensity.min())/(imgControlDensity.max() - imgControlDensity.min())\n",
    "probMapSaddles = (imgControlDensity - imgControlDensity.min())/(imgControlDensity.max() - imgControlDensity.min())\n",
    "origMap = imgControlDEM\n",
    "\n",
    "\n",
    "# Optional: we might be interested in forbidding peak placement close to the given predefined ridges\n",
    "dfRidges, imgRidges = getRidgesDF(fixPeakCoords, fixSaddleCoords, fixSaddlePeaks, shapeImg, \n",
    "                          terrainAspect, ridgesWidth=1, normalized=False)\n",
    "probMap[dfRidges <= 2] = 0\n",
    "\n",
    "\n",
    "# add some noise to elevation map\n",
    "weightNoise = 0.05\n",
    "noise = getNoiseTexture(imgControlDEM.shape, seed=4.2, scale=4)\n",
    "elevMap = (1 - weightNoise)*imgControlDEM + weightNoise*noise\n",
    "\n",
    "\n",
    "# histogram match the elevation map\n",
    "# on values = 0, we will put random elevations in order to not modify the stats of the rest\n",
    "# note the values on them are not important as the probability of placing a peak there will always be 0\n",
    "elevMap[probMap > 0] = equalize(elevMap[probMap > 0], numBins=1024)\n",
    "elevMap[probMap <= 0] = np.random.uniform(0, 1, size=probMap[probMap <= 0].shape)\n",
    "elevMap = mapToPDF(elevMap.flatten(),\n",
    "                   distributions['elevation']['hist'], \n",
    "                   distributions['elevation']['bins']).reshape(elevMap.shape)\n",
    "elevMap[probMap <= 0] = df['saddleElev'].min()\n",
    "\n",
    "\n",
    "fig = plt.figure(figsize=(15,5))\n",
    "ax = fig.add_subplot(131) \n",
    "_ = ax.imshow(np.flipud(origMap.T))\n",
    "ax = fig.add_subplot(132)\n",
    "_ = ax.imshow(np.flipud(elevMap.T))\n",
    "ax = fig.add_subplot(133) \n",
    "_ = ax.imshow(np.flipud(probMap.T))\n"
   ]
  },
  {
   "cell_type": "code",
   "execution_count": null,
   "metadata": {},
   "outputs": [],
   "source": []
  },
  {
   "cell_type": "markdown",
   "metadata": {},
   "source": [
    "# Main program"
   ]
  },
  {
   "cell_type": "code",
   "execution_count": null,
   "metadata": {},
   "outputs": [],
   "source": [
    "# total number of peaks to synthesize on the terrain, based on the density from the given region\n",
    "densityFactor = (probMap > 0).sum()/np.prod(probMap.shape)\n",
    "scalingFactor = (terrainUnitKm/(2 * filterRadius))**2\n",
    "totalNumPeaks = np.round(densityFactor * scalingFactor * df.shape[0])\n",
    "\n",
    "print('Density factor (average density in probMap):', '%.2f'%densityFactor)\n",
    "print('Scaling factor (area ratio out / analysis): ', scalingFactor)\n",
    "print('NUM PEAKS:', totalNumPeaks)"
   ]
  },
  {
   "cell_type": "code",
   "execution_count": null,
   "metadata": {},
   "outputs": [],
   "source": [
    "# get the prominence thresholds that divide successively in halfs the peaks in the dataset\n",
    "pros = sorted(df['prom'])\n",
    "steps = [8/15, 12/15, 14/15]\n",
    "for s in steps:\n",
    "    print(int(pros[int(s*len(pros))]))"
   ]
  },
  {
   "cell_type": "code",
   "execution_count": null,
   "metadata": {},
   "outputs": [],
   "source": [
    "# each pair of consecutive values defines the max-min prominence range for each multi-pass placement step\n",
    "promGroups = [globalMaxElev, 260, 140, 75, 0]"
   ]
  },
  {
   "cell_type": "code",
   "execution_count": null,
   "metadata": {},
   "outputs": [],
   "source": [
    "# compute the conditioned distributions for each prominence group\n",
    "binDistributions = []\n",
    "accDistributions = []\n",
    "promStepNumPeaks = []\n",
    "promGroupsLimits = []\n",
    "for gi in range(len(promGroups) - 1):\n",
    "    \n",
    "    maxProm = promGroups[gi]\n",
    "    minProm = promGroups[gi+1]\n",
    "\n",
    "    promGroupDF = df[np.logical_and(df['prom'] >= minProm, df['prom'] < maxProm)]\n",
    "    promAccumDF = df[df['prom'] >= minProm]\n",
    "    \n",
    "    promStepNumPeaks.append(int(np.round(totalNumPeaks * (promGroupDF.shape[0]/df.shape[0]))))\n",
    "    binDistributions.append(computeDistributions(promGroupDF, diskRadius))\n",
    "    accDistributions.append(computeDistributions(promAccumDF, diskRadius))\n",
    "    promGroupsLimits.append((minProm, maxProm))"
   ]
  },
  {
   "cell_type": "code",
   "execution_count": null,
   "metadata": {},
   "outputs": [],
   "source": [
    "# parameters dictionary\n",
    "synthParams = {    \n",
    "    \n",
    "    # Global parameters\n",
    "    'promEpsilon': 30,          # m, minimum prominence used in the peak analysis\n",
    "    'globalMaxElev': 9000,      # m, maximum elevation, any value larger than highest peak will do\n",
    "    'terrainSize': terrainSize, # dimensions of the domain\n",
    "    \n",
    "    # Range (in % of elevation map range) used to prefilter the candidate positions for each peak dart throwing. \n",
    "    # This accelerates peak placement but reduces randomness of generated terrains, \n",
    "    # Value of 0 means that only those positions in the elevation map that have the same elevation as the peak \n",
    "    # we are trying to place are candidates for the dart throwing.\n",
    "    # Using a value of 1 disables the optimization, as all positions in the map will be candidates.\n",
    "    'elevRangeFilter': 0.5,\n",
    "    \n",
    "    # Maximum number of positions to test during each peak placement step. If reached, the position that scored\n",
    "    # the highest probability will be selected as final location.\n",
    "    'maxPeakTrials': 100,\n",
    "    \n",
    "    # Exponent used in the cost of each Delaunay edge when constructing the Divide Tree,\n",
    "    # which serves as a balancing factor between closest edges (0) or highest edges (1, 2)\n",
    "    'delaunayRidgeExp': 1.0,\n",
    "    \n",
    "    # Update probability map after each multi-pass placement to take into account the distance to ridges?\n",
    "    'updateProbMap': True,\n",
    "    \n",
    "    # used to control the extent of the ridges and valleys during multi-pass peak placement\n",
    "    # larger values lead to wider empty valleys, smaller values cover more uniformly the domain but less structured\n",
    "    'valleyFactor': 1,  # typically something between 0.5 to 1.5\n",
    "    \n",
    "    # Number of iterations of prominence/dominance optimization. Usually 3-4 are enough, check debug info later\n",
    "    'numHistogramIters': 5\n",
    "}\n",
    "\n",
    "# fixed data dictionary\n",
    "fixedData = {\n",
    "    'fixedPeaks': np.hstack([fixPeakCoords*terrainSize, fixPeakElevs[:,np.newaxis]]),\n",
    "    'peakRangeProm': peakRangeProm,\n",
    "    'peakRangeDom': peakRangeDom,\n",
    "    'fixedSaddles': np.empty((0,3)),\n",
    "    'fixedSaddlesPeaks': np.empty((0,2), dtype=int)\n",
    "}\n",
    "# code snippet without fixed data, still need to pass the vectors!\n",
    "#fixedData = {\n",
    "#    'fixedPeaks': np.empty((0,3)),\n",
    "#    'peakRangeProm': np.empty((0,2)),\n",
    "#    'peakRangeDom': np.empty((0,2)),\n",
    "#    'fixedSaddles': np.empty((0,3)),\n",
    "#    'fixedSaddlesPeaks': np.empty((0,2), dtype=int)\n",
    "#}"
   ]
  },
  {
   "cell_type": "code",
   "execution_count": null,
   "metadata": {
    "scrolled": true
   },
   "outputs": [],
   "source": [
    "# SYNTHESIS\n",
    "np.random.seed(42)\n",
    "\n",
    "peakCoords, peakElevs, saddleCoords, saddleElevs, saddlePeaks, RidgeTree, debugInfo = \\\n",
    "    synthDivideTree(distributions, binDistributions, accDistributions, promGroupsLimits, promStepNumPeaks, \n",
    "                    probMap, probMapSaddles, elevMap, fixedData, synthParams)\n",
    "\n",
    "# compute prominences\n",
    "peakSaddle, peakParent, peakProms, _ = computeProminences(RidgeTree, peakElevs, saddleElevs, saddlePeaks)   \n",
    "\n",
    "# compute dominances\n",
    "peakDoms = peakProms / peakElevs   \n",
    "\n",
    "# compute isolations\n",
    "peakIsols, isolCoords = computeIsolations(peakCoords, peakElevs)\n",
    "\n",
    "print('DONE!')"
   ]
  },
  {
   "cell_type": "code",
   "execution_count": null,
   "metadata": {},
   "outputs": [],
   "source": []
  },
  {
   "cell_type": "code",
   "execution_count": null,
   "metadata": {},
   "outputs": [],
   "source": [
    "# draw resulting divide tree, \n",
    "# peak size and color represents elevation\n",
    "# saddle size represents the prominence of the corresponding peak j: KeySaddle(P_j) = S_i\n",
    "\n",
    "s2p = np.full(saddleElevs.shape, -1)\n",
    "for i in range(peakElevs.size):\n",
    "    s2p[peakSaddle[i]] = i\n",
    "\n",
    "fig = plt.figure(figsize=(16*np.array(terrainAspect)))\n",
    "ax = fig.add_subplot(111)\n",
    "ax.scatter(peakCoords  [:,0], peakCoords  [:,1], marker='^', zorder=2,\n",
    "           s=150*peakElevs/peakElevs.max(), c=peakElevs/peakElevs.max(), linewidths=0.75, edgecolors=(0,0,0,1))\n",
    "ax.scatter(saddleCoords[:,0], saddleCoords[:,1], marker='o', color='r', s=200*peakProms[s2p]/peakProms.max(), zorder=2)\n",
    "for i in range(saddleElevs.size):\n",
    "    p1 = peakCoords[saddlePeaks[i,0]]\n",
    "    p2 = peakCoords[saddlePeaks[i,1]]\n",
    "    ps = saddleCoords[i]\n",
    "    ax.plot([p1[0], ps[0]], [p1[1], ps[1]], color='orange', linewidth=2, zorder=1)\n",
    "    ax.plot([p2[0], ps[0]], [p2[1], ps[1]], color='orange', linewidth=2, zorder=1)\n",
    "\n",
    "if False: # annotate\n",
    "    for i in range(peakElevs.size):\n",
    "        s = peakSaddle[i]\n",
    "        if s < 0:\n",
    "            print('No saddle for ', i)\n",
    "            continue\n",
    "        #ax.annotate('%d: %d (%d)'%(i, int(peakElevs[i]), int(peakProms[i])), xy=peakCoords[i,:], fontsize=2)        \n",
    "        #ax.annotate('%d (%d)'%(saddleElevs[s], s), xy=saddleCoords[s], fontsize=2)\n",
    "\n",
    "        ax.annotate('P %d'%(i), xy=peakCoords[i,:], fontsize=4)        \n",
    "        ax.annotate('S %d'%(s), xy=saddleCoords[s], fontsize=4)\n",
    "\n",
    "\n",
    "plt.xlim(0, terrainSize[0])\n",
    "plt.ylim(0, terrainSize[1])"
   ]
  },
  {
   "cell_type": "code",
   "execution_count": null,
   "metadata": {},
   "outputs": [],
   "source": [
    "# save the tree in pdf (better for debugging)\n",
    "if False:\n",
    "    ax.set_axis_off()\n",
    "    ax.get_xaxis().set_visible(False)\n",
    "    ax.get_yaxis().set_visible(False)\n",
    "    plt.axis('off')\n",
    "    fig.savefig('dividetree.pdf', dpi=100, bbox_inches='tight', pad_inches=0)"
   ]
  },
  {
   "cell_type": "code",
   "execution_count": null,
   "metadata": {},
   "outputs": [],
   "source": []
  },
  {
   "cell_type": "markdown",
   "metadata": {},
   "source": [
    "# Output"
   ]
  },
  {
   "cell_type": "code",
   "execution_count": null,
   "metadata": {},
   "outputs": [],
   "source": [
    "outName= 'synthesis'"
   ]
  },
  {
   "cell_type": "markdown",
   "metadata": {},
   "source": [
    "### Peaks file"
   ]
  },
  {
   "cell_type": "code",
   "execution_count": null,
   "metadata": {},
   "outputs": [],
   "source": [
    "fout = open('%s_%s.csv' % (outName, regionName), 'w')\n",
    "fout.write('latitude,longitude,elevation in feet,key saddle latitude,key saddle longitude,' +\n",
    "           'prominence in feet,isolation latitude,isolation longitude,isolation in km\\n')\n",
    "\n",
    "for pi in range(peakElevs.size):\n",
    "    \n",
    "    cPeak = km2deg(peakCoords[pi])\n",
    "    hPeak = m2feet(peakElevs[pi])\n",
    "    si = peakSaddle[pi]\n",
    "    \n",
    "    if pi == peakElevs.argmax():\n",
    "        cSadd = [0, 0]\n",
    "        hSadd = 0\n",
    "        cIsol = [0, 0]\n",
    "        isolation = -1\n",
    "    else:\n",
    "        cSadd = km2deg(saddleCoords[si])\n",
    "        hSadd = m2feet(saddleElevs[si])\n",
    "        cIsol = km2deg(isolCoords[pi,:])\n",
    "        isolation = peakIsols[pi]\n",
    "\n",
    "    fout.write('%.4f,%.4f,%d,%.4f,%.4f,%d,%.4f,%.4f,%4f\\n' % (cPeak[0], cPeak[1], int(hPeak + 0.5), \n",
    "                                                              cSadd[0], cSadd[1], int((hPeak - hSadd) + 0.5),\n",
    "                                                              cIsol[0], cIsol[1], isolation))\n",
    "    \n",
    "fout.close()"
   ]
  },
  {
   "cell_type": "markdown",
   "metadata": {},
   "source": [
    "### Divide tree"
   ]
  },
  {
   "cell_type": "code",
   "execution_count": null,
   "metadata": {},
   "outputs": [],
   "source": [
    "fout = open('%s_%s_dividetree.txt' % (outName, regionName), 'w')\n",
    "\n",
    "fout.write('Peaks %d\\n' % peakElevs.size)    \n",
    "for i in range(peakElevs.size):\n",
    "    fout.write('%d %.6f %.6f %d %d %d\\n'%(i, km2deg(peakCoords[i,0]), km2deg(peakCoords[i,1]),\n",
    "                                          int(m2feet(peakElevs[i]) + 0.5),\n",
    "                                          int(peakCoords[i,0]*km2pixels), int(peakCoords[i,1]*km2pixels)))\n",
    "    \n",
    "fout.write('PromSaddles %d\\n' % saddleElevs.size)\n",
    "for i in range(saddleElevs.size):\n",
    "    fout.write('%d %.6f %.6f %d %d %d\\n'%(i, km2deg(saddleCoords[i,0]), km2deg(saddleCoords[i,1]),\n",
    "                                          int(m2feet(saddleElevs[i]) + 0.5),\n",
    "                                          int(saddleCoords[i,0]*km2pixels), int(saddleCoords[i,1]*km2pixels)))\n",
    "    \n",
    "fout.write('BasinSaddles 0\\n')\n",
    "fout.write('Runoffs 0\\n')\n",
    "\n",
    "edges = []\n",
    "for i in range(peakElevs.size):\n",
    "    for j in range(peakElevs.size):\n",
    "        if RidgeTree[i,j] >= 0:\n",
    "            edges.append((i+1, j+1, RidgeTree[i,j]+1))\n",
    "\n",
    "fout.write('Edges %d\\n' % len(edges))\n",
    "for e in edges:\n",
    "    fout.write('%d %d %d\\n' % (e[0], e[1], e[2]))\n",
    "    \n",
    "fout.write('RunoffEdges 0\\n')\n",
    "\n",
    "fout.close()"
   ]
  },
  {
   "cell_type": "markdown",
   "metadata": {},
   "source": [
    "### Divide tree image"
   ]
  },
  {
   "cell_type": "code",
   "execution_count": null,
   "metadata": {},
   "outputs": [],
   "source": [
    "colorTree = True\n",
    "if colorTree:\n",
    "    fig = plt.figure(figsize=(16*np.array(terrainAspect)))\n",
    "    ax = fig.add_subplot(111)\n",
    "    ax.scatter(peakCoords  [:,0], peakCoords  [:,1], marker='^', zorder=2,\n",
    "               s=200*peakElevs/peakElevs.max(), c=peakElevs/peakElevs.max(), linewidths=0.75, edgecolors=(0,0,0,1))\n",
    "    ax.scatter(saddleCoords[:,0], saddleCoords[:,1], marker='o', color='r', s=5, zorder=2)\n",
    "    for i in range(saddleElevs.size):\n",
    "        p1 = peakCoords[saddlePeaks[i,0]]\n",
    "        p2 = peakCoords[saddlePeaks[i,1]]\n",
    "        ps = saddleCoords[i]\n",
    "        ax.plot([p1[0], ps[0]], [p1[1], ps[1]], color='orange', linewidth=2, zorder=1)\n",
    "        ax.plot([p2[0], ps[0]], [p2[1], ps[1]], color='orange', linewidth=2, zorder=1)\n",
    "    plt.xlim(0, terrainSize[0])\n",
    "    plt.ylim(0, terrainSize[1])\n",
    "    fig.savefig('%s_%s_dividetree.png' % (outName, regionName), dpi=100, bbox_inches='tight', pad_inches=0)\n",
    "\n",
    "else:\n",
    "    img = np.zeros((int(terrainSize[0]*km2pixels), int(terrainSize[1]*km2pixels), 3))\n",
    "\n",
    "    peakImgCoords   = np.round(peakCoords*km2pixels).astype(int)\n",
    "    saddleImgCoords = np.round(saddleCoords*km2pixels).astype(int)\n",
    "\n",
    "    # peaks\n",
    "    for i in range(peakElevs.size):\n",
    "        cv.circle(img, (peakImgCoords[i,0], peakImgCoords[i,1]), 6, color=(0,0,1), thickness=-1)\n",
    "\n",
    "    # saddles\n",
    "    for i in range(saddleElevs.size):\n",
    "        cv.circle(img, (saddleImgCoords[i,0], saddleImgCoords[i,1]), 3, color=(0,1,0), thickness=-1)\n",
    "\n",
    "    # ridges\n",
    "    for i in range(saddleElevs.size):\n",
    "        if saddlePeaks[i,0] < 0 or saddlePeaks[i,1] < 0:\n",
    "            continue\n",
    "        p1 = peakImgCoords[saddlePeaks[i,0]]\n",
    "        p2 = peakImgCoords[saddlePeaks[i,1]]\n",
    "        ps = saddleImgCoords[i]\n",
    "        cv.line(img, tuple(p1), tuple(ps), color=(0, 0.5, 1), thickness=2)\n",
    "        cv.line(img, tuple(p2), tuple(ps), color=(0, 0.5, 1), thickness=2)\n",
    "\n",
    "    img = cv.flip(img, 0)\n",
    "    _ = cv.imwrite('%s_%s_dividetree.png' % (outName, regionName), 255*img)"
   ]
  },
  {
   "cell_type": "code",
   "execution_count": null,
   "metadata": {},
   "outputs": [],
   "source": []
  },
  {
   "cell_type": "markdown",
   "metadata": {},
   "source": [
    "# Debug visualizations"
   ]
  },
  {
   "cell_type": "code",
   "execution_count": null,
   "metadata": {},
   "outputs": [],
   "source": [
    "# evolution of the divide tree during the multi-pass placement\n",
    "fig = plt.figure(figsize=(20,20))\n",
    "\n",
    "for i,tdata in enumerate(debugInfo['stepDivtrees']):  \n",
    "    \n",
    "    si_peakCoords, si_peakElevs, si_saddleCoords, si_saddlePeaks = tdata\n",
    "    \n",
    "    ax = fig.add_subplot(2, 2, i+1)    \n",
    "    ax.scatter(si_peakCoords[:,0], si_peakCoords[:,1], marker='^', s=50*si_peakElevs/si_peakElevs.max(), color='r')\n",
    "    ax.scatter(si_saddleCoords[:,0], si_saddleCoords[:,1], marker='o', s=2, color='g')\n",
    "    for i in range(si_saddlePeaks.shape[0]):\n",
    "        p1 = si_peakCoords[si_saddlePeaks[i,0]]\n",
    "        p2 = si_peakCoords[si_saddlePeaks[i,1]]\n",
    "        ps = si_saddleCoords[i]\n",
    "        ax.plot([p1[0], ps[0]], [p1[1], ps[1]], color='b', linewidth=0.5)\n",
    "        ax.plot([p2[0], ps[0]], [p2[1], ps[1]], color='b', linewidth=0.5)\n",
    "    \n",
    "    plt.xlim(0, terrainSize[0])\n",
    "    plt.ylim(0, terrainSize[1])"
   ]
  },
  {
   "cell_type": "code",
   "execution_count": null,
   "metadata": {},
   "outputs": [],
   "source": [
    "# probability map on each placement step\n",
    "fig = plt.figure(figsize=(20,5))\n",
    "for i,iprobmap in enumerate(debugInfo['stepProbMaps']):\n",
    "    ax = fig.add_subplot(1, 4, i+1)\n",
    "    ax.imshow(np.flipud(iprobmap.T))"
   ]
  },
  {
   "cell_type": "code",
   "execution_count": null,
   "metadata": {},
   "outputs": [],
   "source": []
  },
  {
   "cell_type": "code",
   "execution_count": null,
   "metadata": {},
   "outputs": [],
   "source": [
    "# convergence of prominence and dominance towards target distribution\n",
    "# each curve represents the sum of absolute bin differences between current and target histograms\n",
    "domDifferences = debugInfo['domDifferences']\n",
    "promDifferences = debugInfo['promDifferences']\n",
    "\n",
    "_ = plt.figure()\n",
    "plt.plot(domDifferences, c='b')\n",
    "plt.plot(promDifferences, c='r')\n",
    "plt.plot(np.array(promDifferences) + np.array(domDifferences), c='g')"
   ]
  },
  {
   "cell_type": "code",
   "execution_count": null,
   "metadata": {},
   "outputs": [],
   "source": []
  },
  {
   "cell_type": "code",
   "execution_count": null,
   "metadata": {},
   "outputs": [],
   "source": [
    "def printHistogramsDistances(hbins, hReal, hSynth):\n",
    "    hdiff = np.abs(hReal - hSynth)\n",
    "    print('Max', np.max(hdiff), 'Sum', np.sum(hdiff), 'Avg', np.mean(hdiff))\n",
    "    print('EMD', np.diff(hbins)[0]*np.abs(np.cumsum(hReal) - np.cumsum(hSynth)).sum())\n",
    "    \n",
    "def histogramsComparison(distribution, synthesisValues):\n",
    "    hbins  = distribution['bins']\n",
    "    hmids  = distribution['x']\n",
    "    hReal  = distribution['hist']\n",
    "    hSynth = histogramFromBins(synthesisValues, hbins, frequencies=False)\n",
    "    hNorm  = np.round(synthesisValues.size * hReal/hReal.sum())\n",
    "\n",
    "    fig = plt.figure(figsize=(16, 5))\n",
    "    ax = fig.add_subplot(131)\n",
    "    _ = ax.bar (hmids, hSynth, width=np.diff(hbins), color=barColor, edgecolor=edgeColor)\n",
    "    _ = ax.plot(hmids, hNorm, color='r')\n",
    "\n",
    "    ax = fig.add_subplot(132)\n",
    "    _ = ax.bar (hmids, hNorm, width=np.diff(hbins), color='g')\n",
    "    _ = ax.plot(hmids, hNorm, color='r')\n",
    "    \n",
    "    printHistogramsDistances(hbins, hReal/hReal.sum(), hSynth/hSynth.sum())\n",
    "    print('Per bin differences (synthesis - target)')\n",
    "    print(hSynth - hNorm)"
   ]
  },
  {
   "cell_type": "code",
   "execution_count": null,
   "metadata": {},
   "outputs": [],
   "source": [
    "histogramsComparison(distributions['elevation'], peakElevs)"
   ]
  },
  {
   "cell_type": "code",
   "execution_count": null,
   "metadata": {},
   "outputs": [],
   "source": [
    "histogramsComparison(distributions['prominence'], peakProms)"
   ]
  },
  {
   "cell_type": "code",
   "execution_count": null,
   "metadata": {},
   "outputs": [],
   "source": [
    "histogramsComparison(distributions['dominance'], peakDoms)"
   ]
  },
  {
   "cell_type": "code",
   "execution_count": null,
   "metadata": {},
   "outputs": [],
   "source": [
    "# note that it is actually ok for our computed isolations to be slightly larger than target histogram\n",
    "# we are computing the approximate peak-to-peak isolation, instead of peak-to-ground\n",
    "# if we compute the real isolations after reconstructing the DEM, they will be smaller\n",
    "histogramsComparison(distributions['isolation'], peakIsols)"
   ]
  },
  {
   "cell_type": "code",
   "execution_count": null,
   "metadata": {},
   "outputs": [],
   "source": []
  }
 ],
 "metadata": {
  "kernelspec": {
   "display_name": "Python 3",
   "language": "python",
   "name": "python3"
  },
  "language_info": {
   "codemirror_mode": {
    "name": "ipython",
    "version": 3
   },
   "file_extension": ".py",
   "mimetype": "text/x-python",
   "name": "python",
   "nbconvert_exporter": "python",
   "pygments_lexer": "ipython3",
   "version": "3.7.3"
  }
 },
 "nbformat": 4,
 "nbformat_minor": 2
}
