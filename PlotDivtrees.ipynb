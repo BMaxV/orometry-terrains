{
 "cells": [
  {
   "cell_type": "code",
   "execution_count": 3,
   "metadata": {},
   "outputs": [
    {
     "ename": "KeyError",
     "evalue": "'roman'",
     "output_type": "error",
     "traceback": [
      "\u001b[1;31m---------------------------------------------------------------------------\u001b[0m",
      "\u001b[1;31mKeyError\u001b[0m                                  Traceback (most recent call last)",
      "\u001b[1;32m<ipython-input-3-983727d738da>\u001b[0m in \u001b[0;36m<module>\u001b[1;34m\u001b[0m\n\u001b[0;32m      9\u001b[0m \u001b[0mget_ipython\u001b[0m\u001b[1;33m(\u001b[0m\u001b[1;33m)\u001b[0m\u001b[1;33m.\u001b[0m\u001b[0mrun_line_magic\u001b[0m\u001b[1;33m(\u001b[0m\u001b[1;34m'matplotlib'\u001b[0m\u001b[1;33m,\u001b[0m \u001b[1;34m'inline'\u001b[0m\u001b[1;33m)\u001b[0m\u001b[1;33m\u001b[0m\u001b[1;33m\u001b[0m\u001b[0m\n\u001b[0;32m     10\u001b[0m \u001b[1;33m\u001b[0m\u001b[0m\n\u001b[1;32m---> 11\u001b[1;33m \u001b[1;32mdel\u001b[0m \u001b[0mmpl\u001b[0m\u001b[1;33m.\u001b[0m\u001b[0mfont_manager\u001b[0m\u001b[1;33m.\u001b[0m\u001b[0mweight_dict\u001b[0m\u001b[1;33m[\u001b[0m\u001b[1;34m'roman'\u001b[0m\u001b[1;33m]\u001b[0m\u001b[1;33m\u001b[0m\u001b[1;33m\u001b[0m\u001b[0m\n\u001b[0m\u001b[0;32m     12\u001b[0m \u001b[0mmpl\u001b[0m\u001b[1;33m.\u001b[0m\u001b[0mfont_manager\u001b[0m\u001b[1;33m.\u001b[0m\u001b[0m_rebuild\u001b[0m\u001b[1;33m(\u001b[0m\u001b[1;33m)\u001b[0m\u001b[1;33m\u001b[0m\u001b[1;33m\u001b[0m\u001b[0m\n\u001b[0;32m     13\u001b[0m \u001b[1;33m\u001b[0m\u001b[0m\n",
      "\u001b[1;31mKeyError\u001b[0m: 'roman'"
     ]
    }
   ],
   "source": [
    "import os\n",
    "import numpy as np\n",
    "import matplotlib as mpl\n",
    "import matplotlib.pyplot as plt\n",
    "import cv2\n",
    "from utils.coords import feet2m\n",
    "from utils.divtree_reader import readDivideTree\n",
    "\n",
    "%matplotlib inline\n",
    "\n",
    "del mpl.font_manager.weight_dict['roman']\n",
    "mpl.font_manager._rebuild()\n",
    "\n",
    "plt.rcParams[\"font.family\"] = \"Times New Roman\"\n",
    "plt.rcParams[\"font.size\"] = 20\n",
    "plt.rcParams[\"font.weight\"] = 'normal'\n",
    "mpl.rcParams['image.cmap'] = 'gray'"
   ]
  },
  {
   "cell_type": "code",
   "execution_count": null,
   "metadata": {},
   "outputs": [
    {
     "name": "stdout",
     "output_type": "stream",
     "text": [
      "alaska.txt 6179.82 280.11\n",
      "alps-dolomites.txt 3332.68 0.00\n",
      "alps-ecrins.txt 4080.66 587.35\n",
      "alps-montblanc.txt 4797.86 455.07\n",
      "andes-aconcagua.txt 6931.76 1347.83\n",
      "andes-chile.txt 5948.78 1658.72\n",
      "appalachians.txt 1661.77 298.40\n",
      "colorado.txt 4384.85 2047.04\n",
      "gobi.txt 1051.26 847.65\n",
      "highlands.txt 1308.51 71.32\n",
      "himalaya-annapurna.txt 8069.28 1026.57\n",
      "himalaya-everest.txt 8837.37 2362.20\n",
      "karakoram.txt 8577.99 3352.19\n",
      "norway.txt 1891.28 0.00\n",
      "patagonia.txt 2788.92 0.00\n",
      "pyrenees.txt 3364.38 659.28\n",
      "rockies.txt 3573.17 799.80\n",
      "sahara.txt 474.88 189.89\n"
     ]
    }
   ],
   "source": [
    "filesPath = 'data/dems'\n",
    "\n",
    "imgOff = 50\n",
    "edgeColor = (0.75,0,0,1)\n",
    "\n",
    "for f in os.listdir(filesPath):\n",
    "    \n",
    "    if not f.endswith('.txt'):\n",
    "        continue\n",
    "    \n",
    "    fpath = os.path.join(filesPath, f)\n",
    "        \n",
    "    # read divide tree\n",
    "    peakCoords, peakElevs, saddleCoords, saddleElevs, saddlePeaks, _ = readDivideTree(fpath, returnDEMCoords=True)\n",
    "    numPeaks = peakElevs.size\n",
    "    numSaddles = saddlePeaks.shape[0]\n",
    "    \n",
    "    # read image (16 bit PNG, heights in feet)\n",
    "    img = cv2.imread(fpath.replace('.txt', '.png'), -cv2.IMREAD_ANYDEPTH)\n",
    "    \n",
    "    print(f, '%.2f'%feet2m(img.max()), '%.2f'%feet2m(img.min()))\n",
    "    \n",
    "    # normalize image\n",
    "    img = (img - img.min())/(img.max() - img.min())\n",
    "    \n",
    "    fig = plt.figure(figsize=(8, 8*img.shape[0]/img.shape[1]))\n",
    "    ax = fig.add_subplot(111)    \n",
    "\n",
    "    # plot image\n",
    "    ax.imshow(img[...], interpolation='bicubic', zorder=0, cmap='gray')\n",
    "\n",
    "    # plot peaks\n",
    "    ax.scatter(peakCoords[:,0], img.shape[0] - peakCoords[:,1], marker='^', zorder=3,\n",
    "               s=20*peakElevs/peakElevs.max(), c='white', edgecolors=(1,0.75,0,1), linewidths=1)\n",
    "    \n",
    "    # plot saddles\n",
    "    ax.scatter(saddleCoords[:,0], img.shape[0] - saddleCoords[:,1], marker='o', \n",
    "               c='white', edgecolors=(146/255, 208/255, 80/255, 1), s=6, zorder=2)\n",
    "\n",
    "    # plot ridges\n",
    "    for i in range(saddleCoords.shape[0]):\n",
    "        if saddlePeaks[i,0] < 0 or saddlePeaks[i,1] < 0:\n",
    "            continue\n",
    "            \n",
    "        p1 = peakCoords[saddlePeaks[i,0]]\n",
    "        p2 = peakCoords[saddlePeaks[i,1]]\n",
    "        ps = saddleCoords[i]\n",
    "        \n",
    "        ax.plot([p1[0], ps[0]], [img.shape[0] - p1[1], img.shape[0] - ps[1]], color=edgeColor, linewidth=1, zorder=1)\n",
    "        ax.plot([p2[0], ps[0]], [img.shape[0] - p2[1], img.shape[0] - ps[1]], color=edgeColor, linewidth=1, zorder=1)\n",
    "\n",
    "    # place a text box in upper left in axes coords\n",
    "    #ax.text(0.016, 0.016, f.split('.')[0].replace('-', ' '), transform=ax.transAxes, fontsize=24,\n",
    "    #        verticalalignment='bottom', horizontalalignment='left',\n",
    "    #        bbox=dict(boxstyle='square', facecolor='white', alpha=1))\n",
    "\n",
    "    plt.xlim(peakCoords[:,0].min() + imgOff, peakCoords[:,0].max() - imgOff)\n",
    "    plt.ylim(peakCoords[:,1].max() - imgOff, peakCoords[:,1].min() + imgOff)\n",
    "\n",
    "    ax.set_xticks([])\n",
    "    ax.set_yticks([])\n",
    "    \n",
    "    fig.savefig('divtree_%s.pdf' % f.split('.')[0], dpi=300, bbox_inches='tight', pad_inches=0)"
   ]
  },
  {
   "cell_type": "code",
   "execution_count": null,
   "metadata": {},
   "outputs": [],
   "source": []
  }
 ],
 "metadata": {
  "kernelspec": {
   "display_name": "Python 3",
   "language": "python",
   "name": "python3"
  },
  "language_info": {
   "codemirror_mode": {
    "name": "ipython",
    "version": 3
   },
   "file_extension": ".py",
   "mimetype": "text/x-python",
   "name": "python",
   "nbconvert_exporter": "python",
   "pygments_lexer": "ipython3",
   "version": "3.7.3"
  }
 },
 "nbformat": 4,
 "nbformat_minor": 2
}
