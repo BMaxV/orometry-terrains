{
 "cells": [
  {
   "cell_type": "code",
   "execution_count": null,
   "metadata": {},
   "outputs": [],
   "source": [
    "import numpy as np\n",
    "import matplotlib as mpl\n",
    "import matplotlib.pyplot as plt\n",
    "import time\n",
    "import cv2\n",
    "from PIL import Image\n",
    "from shapely.geometry import Polygon\n",
    "\n",
    "from utils.poisson import PoissonDisc\n",
    "from utils.coords import *\n",
    "from utils.divtree_reader import readDivideTree\n",
    "from utils.meshwriter import writeTerrainMesh\n",
    "from synthesis.divtree_to_dem import *\n",
    "\n",
    "%matplotlib inline\n",
    "\n",
    "mpl.rcParams['image.cmap'] = 'terrain'"
   ]
  },
  {
   "cell_type": "code",
   "execution_count": null,
   "metadata": {},
   "outputs": [],
   "source": []
  },
  {
   "cell_type": "code",
   "execution_count": null,
   "metadata": {},
   "outputs": [],
   "source": [
    "# read divide tree\n",
    "terrainName = 'synthesis_pyrenees'\n",
    "\n",
    "peakCoords, peakElevs, saddleCoords, saddleElevs, saddlePeaks, _ = readDivideTree(terrainName + '_dividetree.txt')\n",
    "peakCoords   = deg2km(peakCoords)\n",
    "saddleCoords = deg2km(saddleCoords)"
   ]
  },
  {
   "cell_type": "code",
   "execution_count": null,
   "metadata": {},
   "outputs": [],
   "source": [
    "# Terrain size, we could also compute the bbox of the peak/saddle positions in the divide tree\n",
    "terrainSize = [90, 90]\n",
    "\n",
    "# Minimum elevation value we want this terrain to have\n",
    "minTerrainElev = 0.5*saddleElevs.min()"
   ]
  },
  {
   "cell_type": "code",
   "execution_count": null,
   "metadata": {},
   "outputs": [],
   "source": [
    "print(terrainSize)\n",
    "print(peakCoords.max())\n",
    "print(peakElevs.size, saddleElevs.size)\n",
    "print(peakElevs.max(), peakElevs.min(), saddleElevs.min(), minTerrainElev)"
   ]
  },
  {
   "cell_type": "code",
   "execution_count": null,
   "metadata": {},
   "outputs": [],
   "source": []
  },
  {
   "cell_type": "code",
   "execution_count": null,
   "metadata": {},
   "outputs": [],
   "source": [
    "# Poisson samples precomputation, takes a while. We could store them in a file\n",
    "\n",
    "# We usually set poissonRadius = 1.5*refineDistance (see later in reconsParams)\n",
    "poissonRadius  = 0.18 # km\n",
    "\n",
    "poissonSamples = PoissonDisc(width=terrainSize[0], height=terrainSize[1], r=poissonRadius, k=15).sample()\n",
    "poissonSamples = np.array([[s[0], s[1]] for s in poissonSamples])"
   ]
  },
  {
   "cell_type": "code",
   "execution_count": null,
   "metadata": {},
   "outputs": [],
   "source": []
  },
  {
   "cell_type": "code",
   "execution_count": null,
   "metadata": {},
   "outputs": [],
   "source": [
    "# reconstruction algorithm parameters (in practice, we only tune maxSlopeCoeff, if any)\n",
    "reconsParams = {\n",
    "    'minTerrainElev': minTerrainElev, # clip elevations lower than this\n",
    "    'maxSlopeCoeff': 0.5,             # linear factor for the river slope, lower = gentler slopes\n",
    "    \n",
    "    'refineDistance': 0.12,           # resampling distance for fine river/ridge networks (affects performance)\n",
    "    'riversPerturbation': 0.20,       # planar perturbation of new river nodes, as % of edge length\n",
    "    'ridgesPerturbation': 0.15,       # planar perturbation of new ridge nodes, as % of ridge length\n",
    "    \n",
    "    'useDrainageArea': True,          # river width dependant on drainage area: w ~ A^0.4\n",
    "    'maxRiverWidth': 0.3,             # max river (flat terrain) width, as % of distance between river and ridge\n",
    "    \n",
    "    'coarseRiverSmoothIters': 4,      # smoothing of the coarse river nodes elevation\n",
    "    'refinedRiverSmoothIters': 5,     # smoothing of the fine river nodes elevation\n",
    "    'refinedRiverSmoothPosIters': 1   # smoothing of the fine river nodes position\n",
    "}"
   ]
  },
  {
   "cell_type": "code",
   "execution_count": null,
   "metadata": {},
   "outputs": [],
   "source": [
    "np.random.seed(42)\n",
    "\n",
    "meshVerts, meshElevs, meshTris, debugInfo = divideTreeToMesh(peakCoords, peakElevs, saddleCoords, saddleElevs, saddlePeaks, \n",
    "                                                             terrainSize, poissonSamples, reconsParams)\n",
    "print('Done!')"
   ]
  },
  {
   "cell_type": "code",
   "execution_count": null,
   "metadata": {},
   "outputs": [],
   "source": []
  },
  {
   "cell_type": "markdown",
   "metadata": {},
   "source": [
    "# Output"
   ]
  },
  {
   "cell_type": "markdown",
   "metadata": {},
   "source": [
    "### Mesh"
   ]
  },
  {
   "cell_type": "code",
   "execution_count": null,
   "metadata": {},
   "outputs": [],
   "source": [
    "# Geometry as mesh, exact representation of the terrain we synthesized, \n",
    "# it contains all peaks and saddles and the elevation is exact"
   ]
  },
  {
   "cell_type": "code",
   "execution_count": null,
   "metadata": {
    "scrolled": true
   },
   "outputs": [],
   "source": [
    "xMax = terrainSize[0]\n",
    "yMax = terrainSize[1]\n",
    "bbox = Polygon([[0, 0], [0, yMax], [xMax, yMax], [xMax, 0]])\n",
    "\n",
    "writeTerrainMesh(terrainName + '_mesh.obj', meshVerts.copy(), np.maximum(0, meshElevs), meshTris.copy(), bbox)\n",
    "\n",
    "print('Mesh elevation range', meshElevs.max(), meshElevs.min())"
   ]
  },
  {
   "cell_type": "code",
   "execution_count": null,
   "metadata": {},
   "outputs": [],
   "source": []
  },
  {
   "cell_type": "markdown",
   "metadata": {},
   "source": [
    "### Raster heightfield"
   ]
  },
  {
   "cell_type": "code",
   "execution_count": null,
   "metadata": {},
   "outputs": [],
   "source": [
    "# Function provided as debug visualization of the DEM\n",
    "# Introduces small errors due to pixel resolution and elevation discretization.\n",
    "# Also, we use scipy delaunay because it contains useful functions that speed up the code,\n",
    "# but unlike Triangle library it's unconstrained and might omit some (small) ridge segments thus creating saddles/peaks.\n",
    "# However, since we already sampled points over the whole domain and we include the Steiner points, should be almost equal.\n",
    "# For best results, directly rasterize the geometry mesh obtained above.\n",
    "\n",
    "def heightfield_delaunay(coords, elevs, terrainSize, hfsize):\n",
    "    #https://codereview.stackexchange.com/questions/41024/faster-computation-of-barycentric-coordinates-for-many-points\n",
    "    \n",
    "    # pixel coords\n",
    "    x = np.linspace(0, 1, hfsize[0] + 1)[:-1] + 0.5/hfsize[0]\n",
    "    y = np.linspace(0, 1, hfsize[1] + 1)[:-1] + 0.5/hfsize[1]\n",
    "    xv, yv = np.meshgrid(x, y)\n",
    "    pixcoords = np.array([xv.flatten(), yv.flatten()]).T\n",
    "\n",
    "    # compute Delaunay, and find the triangle containing each target (-1 if not found)\n",
    "    pointCoords = np.concatenate([coords/terrainSize, np.array([[0, 0], [0, 1], [1, 1], [0, 0]])])\n",
    "    pointElevs  = np.concatenate([elevs,  np.array([0, 0, 0, 0])])\n",
    "    pointElevs  = pointElevs[:, np.newaxis]\n",
    "    delaunayTri = Delaunay(pointCoords)\n",
    "    triangles   = delaunayTri.find_simplex(pixcoords)\n",
    "\n",
    "    # compute barycentric coordinates\n",
    "    X = delaunayTri.transform[triangles,:2]\n",
    "    Y = pixcoords - delaunayTri.transform[triangles,2]\n",
    "    b = np.einsum('...ij,...j->...i', X, Y) # multiply and sum last dimension of X with last dimension of Y\n",
    "    bcoords = np.c_[b, 1 - b.sum(axis=1)]\n",
    "\n",
    "    # interpolate elevations\n",
    "    ielevs = np.einsum('ij,ijk->ik', bcoords, pointElevs[delaunayTri.simplices[triangles]])\n",
    "\n",
    "    # store result\n",
    "    pixels = (hfsize * pixcoords).astype(int)\n",
    "    hfield = np.zeros(hfsize)\n",
    "    hfield[pixels[:,0], pixels[:,1]] = ielevs.flatten()\n",
    "    return hfield\n"
   ]
  },
  {
   "cell_type": "code",
   "execution_count": null,
   "metadata": {},
   "outputs": [],
   "source": [
    "pixelMeters = 30 # m\n",
    "\n",
    "hfsize = (np.array(terrainSize)*1000/pixelMeters).astype(int)\n",
    "print(hfsize)"
   ]
  },
  {
   "cell_type": "code",
   "execution_count": null,
   "metadata": {},
   "outputs": [],
   "source": [
    "hf = heightfield_delaunay(meshVerts, meshElevs, terrainSize, hfsize)\n",
    "hf = np.rot90(hf)\n",
    "print(hf.min(), hf.max())\n",
    "\n",
    "cv2.imwrite(terrainName + '_dem16.png', np.maximum(10*hf, 0).astype(np.uint16))"
   ]
  },
  {
   "cell_type": "code",
   "execution_count": null,
   "metadata": {},
   "outputs": [],
   "source": []
  },
  {
   "cell_type": "markdown",
   "metadata": {},
   "source": [
    "### Distance fields"
   ]
  },
  {
   "cell_type": "code",
   "execution_count": null,
   "metadata": {},
   "outputs": [],
   "source": [
    "# distance fields to use in the erosion and enhancement part of the algorithm\n",
    "dfPeaks = np.ones(hfsize)\n",
    "for p in peakCoords:\n",
    "    pi = (p/terrainSize*hfsize).astype(int)\n",
    "    cv2.circle(dfPeaks, (pi[1], pi[0]), 2, color=0, thickness=-1)\n",
    "dfPeaks = cv2.distanceTransform(dfPeaks.astype(np.uint8), cv2.DIST_L2, cv2.DIST_MASK_PRECISE)\n",
    "dfPeaks = np.minimum(dfPeaks, 255.0)\n",
    "\n",
    "dfSaddles = np.ones(hfsize)\n",
    "for s in saddleCoords:\n",
    "    pi = (s/terrainSize*hfsize).astype(int)\n",
    "    cv2.circle(dfSaddles, (pi[1], pi[0]), 2, color=0, thickness=-1)\n",
    "dfSaddles = cv2.distanceTransform(dfSaddles.astype(np.uint8), cv2.DIST_L2, cv2.DIST_MASK_PRECISE)\n",
    "dfSaddles = np.minimum(dfSaddles, 255.0)\n",
    "\n",
    "dfRidges = np.ones(hfsize)\n",
    "ridgeCoords = meshVerts[:debugInfo['numRidgeVerts'], :]\n",
    "for seg in debugInfo['ridgeSegments']:\n",
    "    rfrom,rto = seg\n",
    "    p1 = (ridgeCoords[rfrom,:]/terrainSize*hfsize).astype(int)\n",
    "    p2 = (ridgeCoords[rto,:]/terrainSize*hfsize).astype(int)\n",
    "    cv2.line(dfRidges, (p1[1], p1[0]), (p2[1], p2[0]), color=0, thickness=1)    \n",
    "dfRidges = cv2.distanceTransform(dfRidges.astype(np.uint8), cv2.DIST_L2, cv2.DIST_MASK_PRECISE)\n",
    "dfRidges = np.minimum(dfRidges, 255.0)\n",
    "\n",
    "imgDF = np.rot90(np.dstack([dfRidges, dfSaddles, dfPeaks]))\n",
    "_ = cv2.imwrite(terrainName + '_distfield.png', imgDF.astype(np.uint8))"
   ]
  },
  {
   "cell_type": "code",
   "execution_count": null,
   "metadata": {},
   "outputs": [],
   "source": []
  },
  {
   "cell_type": "markdown",
   "metadata": {},
   "source": [
    "# Debug visualizations"
   ]
  },
  {
   "cell_type": "code",
   "execution_count": null,
   "metadata": {},
   "outputs": [],
   "source": [
    "# change these to crop a portion of the terrain, e.g. for figures\n",
    "xmin = ymin = 0\n",
    "xmax = terrainSize[0]\n",
    "ymax = terrainSize[1]"
   ]
  },
  {
   "cell_type": "code",
   "execution_count": null,
   "metadata": {},
   "outputs": [],
   "source": [
    "# Voronoi cells and river lines\n",
    "\n",
    "fig = plt.figure(figsize=(20,20))\n",
    "ax = fig.add_subplot(111)\n",
    "\n",
    "\n",
    "# ridgelines from divide tree\n",
    "for i in range(saddlePeaks.shape[0]):\n",
    "    p1 = peakCoords[saddlePeaks[i,0]]\n",
    "    p2 = peakCoords[saddlePeaks[i,1]]\n",
    "    ps = saddleCoords[i]\n",
    "    ax.plot([p1[0], ps[0]], [p1[1], ps[1]], color='orange', linewidth=3, zorder=1)\n",
    "    ax.plot([p2[0], ps[0]], [p2[1], ps[1]], color='orange', linewidth=3, zorder=1)\n",
    "\n",
    "# voronoi cells\n",
    "voronoiCells = debugInfo['voronoiRegions']\n",
    "voronoiVerts = debugInfo['voronoiVerts']\n",
    "for ip,poly in enumerate(voronoiCells):    \n",
    "    for i,p in enumerate(poly):\n",
    "        p1 = voronoiVerts[p]\n",
    "        p2 = voronoiVerts[poly[(i+1)%len(poly)]]\n",
    "        ax.plot([p1[0], p2[0]], [p1[1], p2[1]], color='lightgray', linewidth=1)\n",
    "\n",
    "# river lines\n",
    "riverLines = debugInfo['coarseRiverLines']\n",
    "for line in riverLines:    \n",
    "    for i,p in enumerate(line.coords):\n",
    "        p1 = p\n",
    "        p2 = line.coords[(i+1)%len(line.coords)]\n",
    "        ax.plot([p1[0], p2[0]], [p1[1], p2[1]], color='steelblue', linewidth=2)\n",
    "        \n",
    "     \n",
    "_ = plt.xlim(xmin-10, xmax+10)\n",
    "_ = plt.ylim(ymin-10, ymax+10)        \n",
    "\n",
    "\n",
    "#ax.set_axis_off()\n",
    "#ax.get_xaxis().set_visible(False)\n",
    "#ax.get_yaxis().set_visible(False)\n",
    "#plt.axis('off')  \n",
    "#plt.savefig('voronoi.pdf', dpi=300, bbox_inches='tight', pad_inches=0)"
   ]
  },
  {
   "cell_type": "code",
   "execution_count": null,
   "metadata": {},
   "outputs": [],
   "source": []
  },
  {
   "cell_type": "code",
   "execution_count": null,
   "metadata": {},
   "outputs": [],
   "source": [
    "# coarse river network\n",
    "\n",
    "fig = plt.figure(figsize=(20,20))\n",
    "ax = fig.add_subplot(111)\n",
    "\n",
    "\n",
    "# ridgelines from divide tree\n",
    "for i in range(saddlePeaks.shape[0]):\n",
    "    p1 = peakCoords[saddlePeaks[i,0]]\n",
    "    p2 = peakCoords[saddlePeaks[i,1]]\n",
    "    ps = saddleCoords[i]\n",
    "    ax.plot([p1[0], ps[0]], [p1[1], ps[1]], color='orange', linewidth=3, zorder=1)\n",
    "    ax.plot([p2[0], ps[0]], [p2[1], ps[1]], color='orange', linewidth=3, zorder=1)\n",
    "\n",
    "# river flow and drainage area\n",
    "voronoiVerts = debugInfo['voronoiVerts']\n",
    "riverDrainArea = debugInfo['coarseRiverDrainArea']\n",
    "riverFlowTo = debugInfo['coarseRiverFlowTo']\n",
    "for rfrom,rto in enumerate(riverFlowTo):\n",
    "    if rto >= 0:\n",
    "        p1 = voronoiVerts[rfrom,:]\n",
    "        p2 = voronoiVerts[rto,:]\n",
    "        ax.plot([p1[0], p2[0]], [p1[1], p2[1]], color='steelblue', linewidth=0.15*riverDrainArea[rto]**0.4)\n",
    "        #ax.arrow(p1[0], p1[1], p2[0] - p1[0], p2[1] - p1[1], color='blue', linewidth=0.01, length_includes_head=True)\n",
    "\n",
    "# river sources\n",
    "riverSources = debugInfo['coarseRiverSources']\n",
    "riverElevs   = debugInfo['coarseRiverElevs']\n",
    "for rs in riverSources:\n",
    "    if not rs in riverFlowTo:\n",
    "        p1 = voronoiVerts[rs,:]\n",
    "        ax.scatter(p1[0], p1[1], marker='o', s=20, color='purple', zorder=3)\n",
    "        #ax.annotate('%.2f'%(riverElevs[rs]), xy=np.clip(p1, 0, terrainSize), fontsize=5)\n",
    "        #ax.annotate('%d'%(rs), xy=np.clip(p1, 0, terrainSize), fontsize=5)\n",
    "        \n",
    "    \n",
    "_ = plt.xlim(xmin, xmax)\n",
    "_ = plt.ylim(ymin, ymax)\n",
    "\n",
    "\n",
    "#ax.set_axis_off()\n",
    "#ax.get_xaxis().set_visible(False)\n",
    "#ax.get_yaxis().set_visible(False)\n",
    "#plt.axis('off')  \n",
    "#plt.savefig('coarseRivers.pdf', dpi=300, bbox_inches='tight', pad_inches=0)"
   ]
  },
  {
   "cell_type": "code",
   "execution_count": null,
   "metadata": {},
   "outputs": [],
   "source": []
  },
  {
   "cell_type": "code",
   "execution_count": null,
   "metadata": {},
   "outputs": [],
   "source": [
    "# refined networks\n",
    "\n",
    "drawPoisson = False\n",
    "drawMesh = False\n",
    "\n",
    "\n",
    "fig = plt.figure(figsize=(20,20))\n",
    "ax = fig.add_subplot(111)\n",
    "\n",
    "\n",
    "numRidgeVerts = debugInfo['numRidgeVerts']\n",
    "numRiverVerts = debugInfo['numRiverVerts']\n",
    "numPoissonVerts = debugInfo['numPoissonVerts']\n",
    "\n",
    "# refined ridgelines\n",
    "ridgeCoords = meshVerts[:numRidgeVerts,:]\n",
    "ridgeSegs   = debugInfo['ridgeSegments']\n",
    "for seg in ridgeSegs:\n",
    "    rfrom,rto = seg\n",
    "    p1 = ridgeCoords[rfrom,:]\n",
    "    p2 = ridgeCoords[rto,:]\n",
    "    ax.plot([p1[0], p2[0]], [p1[1], p2[1]], color='orange', linewidth=3, zorder=1)\n",
    "                \n",
    "              \n",
    "# river flow and drainage area\n",
    "riverCoords = meshVerts[numRidgeVerts:numRidgeVerts+numRiverVerts,:]\n",
    "riverDrainArea = debugInfo['riverDrainArea']\n",
    "riverFlowTo = debugInfo['riverFlowTo']\n",
    "for rfrom,rto in enumerate(riverFlowTo):\n",
    "    if rto >= 0:\n",
    "        p1 = riverCoords[rfrom,:]\n",
    "        p2 = riverCoords[rto,:]\n",
    "        ax.plot([p1[0], p2[0]], [p1[1], p2[1]], color='steelblue', linewidth=0.15*riverDrainArea[rto]**0.4)\n",
    "        #ax.arrow(p1[0], p1[1], p2[0] - p1[0], p2[1] - p1[1], color='blue', linewidth=0.01, length_includes_head=True)\n",
    "                        \n",
    "# Poisson samples\n",
    "poissonCoords = meshVerts[numRidgeVerts+numRiverVerts:numRidgeVerts+numRiverVerts+numPoissonVerts,:]\n",
    "if drawPoisson:\n",
    "    ax.scatter(poissonCoords[:,0], poissonCoords[:,1], marker='o', s=5, color='purple')\n",
    "    \n",
    "# Mesh triangles\n",
    "if drawMesh:\n",
    "    ax.triplot(meshVerts[:,0], meshVerts[:,1], meshTris, color='black', linewidth=0.2, zorder=5)  \n",
    "            \n",
    "                     \n",
    "_ = plt.xlim(xmin, xmax)\n",
    "_ = plt.ylim(ymin, ymax)\n",
    "\n",
    "\n",
    "#ax.set_axis_off()\n",
    "#ax.get_xaxis().set_visible(False)\n",
    "#ax.get_yaxis().set_visible(False)\n",
    "#plt.axis('off')  \n",
    "#plt.savefig('refinedNetworks.pdf', dpi=300, bbox_inches='tight', pad_inches=0)"
   ]
  },
  {
   "cell_type": "code",
   "execution_count": null,
   "metadata": {},
   "outputs": [],
   "source": []
  },
  {
   "cell_type": "code",
   "execution_count": null,
   "metadata": {},
   "outputs": [],
   "source": [
    "# Poisson samples closest river and ridge\n",
    "\n",
    "numRidgeVerts = debugInfo['numRidgeVerts']\n",
    "numRiverVerts = debugInfo['numRiverVerts']\n",
    "numPoissonVerts = debugInfo['numPoissonVerts']\n",
    "ridgeCoords = meshVerts[:numRidgeVerts,:]\n",
    "riverCoords = meshVerts[numRidgeVerts:numRidgeVerts+numRiverVerts,:]\n",
    "poissonCoords = meshVerts[numRidgeVerts+numRiverVerts:numRidgeVerts+numRiverVerts+numPoissonVerts,:]\n",
    "\n",
    "closestRidgeIdx = debugInfo['closestRidgeIdx']\n",
    "closestRiverIdx = debugInfo['closestRiverIdx']\n",
    "\n",
    "\n",
    "fig = plt.figure(figsize=(20,20))\n",
    "ax = fig.add_subplot(111)\n",
    "\n",
    "\n",
    "ax.scatter(ridgeCoords[:,0], ridgeCoords[:,1], marker='o', color='orange', s=10)\n",
    "ax.scatter(riverCoords[:,0], riverCoords[:,1], marker='o', color='steelblue', s=10)\n",
    "\n",
    "for test in np.random.permutation(numPoissonVerts)[:10]:\n",
    "    p1 = ridgeCoords[closestRidgeIdx[test]]\n",
    "    p2 = riverCoords[closestRiverIdx[test]]\n",
    "    ps = poissonCoords[test]\n",
    "\n",
    "    ax.plot([p1[0], ps[0]], [p1[1], ps[1]], color='darkgreen', linewidth=3)\n",
    "    ax.plot([p2[0], ps[0]], [p2[1], ps[1]], color='darkgreen', linewidth=3)\n",
    "    ax.scatter(ps[0], ps[1], marker='o', color='orange', s=100)\n",
    "    ax.scatter(p1[0], p1[1], marker='o', color='red', s=100)\n",
    "    ax.scatter(p2[0], p2[1], marker='o', color='blue', s=100)\n",
    "\n",
    "\n",
    "_ = plt.xlim(xmin, xmax)\n",
    "_ = plt.ylim(ymin, ymax)\n"
   ]
  },
  {
   "cell_type": "code",
   "execution_count": null,
   "metadata": {},
   "outputs": [],
   "source": []
  }
 ],
 "metadata": {
  "kernelspec": {
   "display_name": "Python 3",
   "language": "python",
   "name": "python3"
  },
  "language_info": {
   "codemirror_mode": {
    "name": "ipython",
    "version": 3
   },
   "file_extension": ".py",
   "mimetype": "text/x-python",
   "name": "python",
   "nbconvert_exporter": "python",
   "pygments_lexer": "ipython3",
   "version": "3.7.3"
  }
 },
 "nbformat": 4,
 "nbformat_minor": 2
}
